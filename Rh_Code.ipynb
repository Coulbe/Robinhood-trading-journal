{
 "cells": [
  {
   "cell_type": "markdown",
   "metadata": {},
   "source": [
    "This is just an trial pyhton notebook showing how to call methods and working jupyter_dash code, I guess."
   ]
  },
  {
   "cell_type": "code",
   "execution_count": null,
   "metadata": {},
   "outputs": [],
   "source": []
  },
  {
   "cell_type": "code",
   "execution_count": null,
   "metadata": {},
   "outputs": [],
   "source": [
    "from Robinhood_Base import Robinhood\n",
    "from Robin_hood import *\n",
    "import numpy as np\n",
    "import pandas as pd"
   ]
  },
  {
   "cell_type": "code",
   "execution_count": null,
   "metadata": {},
   "outputs": [],
   "source": [
    "rh = Robinhood()\n",
    "#Leave it to None and run cell \n",
    "rh.login(username = None , password = None)\n",
    "# Remeber to logout in the end "
   ]
  },
  {
   "cell_type": "code",
   "execution_count": null,
   "metadata": {},
   "outputs": [],
   "source": [
    "#Uncomment rh.logout and run the cell\n",
    "#rh.logout()"
   ]
  },
  {
   "cell_type": "code",
   "execution_count": null,
   "metadata": {},
   "outputs": [],
   "source": []
  },
  {
   "cell_type": "code",
   "execution_count": null,
   "metadata": {},
   "outputs": [],
   "source": [
    "stocks_portfolio = stocksPortfolioDataframe(rh)\n",
    "options_portfolio = optionsPortfolioDataFrame(rh)\n",
    "pending_orderbook = pendingOrders(rh)\n",
    "orderBook = ordersDataFrame(rh)\n",
    "orderJournal = orderJournal(orderBook)\n",
    "orderJournal = orderJournal.sort_values(by = [\"timestamp\"],ascending = False)"
   ]
  },
  {
   "cell_type": "code",
   "execution_count": null,
   "metadata": {},
   "outputs": [],
   "source": []
  },
  {
   "cell_type": "markdown",
   "metadata": {},
   "source": [
    "JUPYTER DASH FROM PLOTLY"
   ]
  },
  {
   "cell_type": "markdown",
   "metadata": {},
   "source": [
    "To get more clear details for Jupyter dash, please see \n",
    "its documentation. Below code might not work since I haven't\n",
    "got chance to get back to it. I am just posting so that if you would like to play with it on your own."
   ]
  },
  {
   "cell_type": "code",
   "execution_count": null,
   "metadata": {},
   "outputs": [],
   "source": [
    "import plotly.express as px\n",
    "from datetime import datetime \n",
    "from jupyter_dash import JupyterDash\n",
    "import dash_core_components as dcc\n",
    "import dash_html_components as html\n",
    "from dash.dependencies import Input, Output\n",
    "import dash_table\n",
    "import plotly.figure_factory as ff"
   ]
  },
  {
   "cell_type": "code",
   "execution_count": null,
   "metadata": {},
   "outputs": [],
   "source": [
    "#### Portfolio Pie chart,\n",
    "# portfolio = stocks_portfolio\n",
    "\n",
    "fig = px.pie(portfolio, values=\"Total Investment\", names='symbol',\n",
    "             labels={'symbol':'STOCK Symbol ','unrealized_gain':'Unrealized Gain '}, \n",
    "             title='Investment Pie Chart as of ' + str(datetime.today().date()),color = \"unrealized_gain\", height = 800,width = 1000,template = 'none',\n",
    "             color_discrete_sequence= ['rgb(248,54,68)'if i <0 else'rgb(77,175,74)' for i in portfolio.unrealized_gain])\n",
    "fig.update_traces(textposition='inside',textinfo = 'percent+label',showlegend = False,\n",
    "                  marker=dict(line=dict(color='black', width=0.5)))\n",
    "#fig.add_annotation(x=0.52, y=1.03,xref=\"paper\", yref=\"paper\",showarrow = False,\n",
    "#                text=\"This graph shows which investment can affect your poftfolio highly\" )\n",
    "fig.show()"
   ]
  },
  {
   "cell_type": "code",
   "execution_count": null,
   "metadata": {},
   "outputs": [],
   "source": [
    "fig =  ff.create_table(portfolio)\n",
    "fig.show()"
   ]
  },
  {
   "cell_type": "code",
   "execution_count": null,
   "metadata": {},
   "outputs": [],
   "source": [
    "####\n",
    "#### Inline JupyterDash\n",
    "####\n",
    "fig = px.pie(portfolio, values=\"Total Investment\", names='symbol', height = 650,width = 800,\n",
    "             labels={'symbol':'STOCK Symbol ','unrealized_gain':'Unrealized Gain '}, template = 'plotly',\n",
    "             title='Investment Pie Chart as of ' + str(datetime.today().date()),color = \"unrealized_gain\",\n",
    "             color_discrete_sequence= ['rgb(248,54,68)'if i <0 else'rgb(77,175,74)' for i in portfolio.unrealized_gain])\n",
    "fig.update_traces(textposition='inside',textinfo = 'percent+label',showlegend = False,\n",
    "                  marker=dict(line=dict(color='black', width=0.5)))\n",
    "#fig.add_annotation(x=0.52, y=1.03,xref=\"paper\", yref=\"paper\",showarrow = False,\n",
    "#                text=\"This graph shows which investment can affect your poftfolio highly\" )\n",
    "app = JupyterDash(__name__)\n",
    "app.layout = html.Div([\n",
    "    dcc.Graph(figure=fig)\n",
    "])\n",
    "\n",
    "\n",
    "app.run_server(mode='inline',host = \"localhost\", port = 8080)"
   ]
  },
  {
   "cell_type": "code",
   "execution_count": null,
   "metadata": {},
   "outputs": [],
   "source": [
    "####\n",
    "#### External Host Page Dash App\n",
    "####\n",
    "\n",
    "df = portfolio\n",
    "\n",
    "app = JupyterDash(__name__)\n",
    "\n",
    "\"\"\"app.layout = dash_table.DataTable(\n",
    "    id='table',\n",
    "    columns=[{\"name\": i, \"id\": i} for i in df.columns],\n",
    "    data=df.to_dict('records'),\n",
    ")\n",
    "\"\"\"\n",
    "\n",
    "fig = px.pie(portfolio, values=\"Total Investment\", names='symbol', height = 650,width = 800,\n",
    "             labels={'symbol':'STOCK Symbol ','unrealized_gain':'Unrealized Gain '}, template = 'plotly',\n",
    "             title='Investment Pie Chart as of ' + str(datetime.today().date()),color = \"unrealized_gain\",\n",
    "             color_discrete_sequence= ['rgb(248,54,68)'if i <0 else'rgb(77,175,74)' for i in portfolio.unrealized_gain])\n",
    "fig.update_traces(textposition='inside',textinfo = 'percent+label',showlegend = False,\n",
    "                  marker=dict(line=dict(color='black', width=0.5)))\n",
    "\n",
    "\n",
    "app.layout = html.Div(children=[\n",
    "    dcc.Graph(figure=fig),\n",
    "    dash_table.DataTable(\n",
    "        id='table',\n",
    "        columns=[{\"name\": i, \"id\": i} for i in df.columns],\n",
    "        data=df.to_dict('records'),\n",
    "        )\n",
    "    ,\n",
    "    \n",
    "])\n",
    "\n",
    "app.run_server(mode='external',host = \"localhost\", port = 8080)"
   ]
  },
  {
   "cell_type": "code",
   "execution_count": null,
   "metadata": {},
   "outputs": [],
   "source": []
  },
  {
   "cell_type": "code",
   "execution_count": null,
   "metadata": {},
   "outputs": [],
   "source": []
  },
  {
   "cell_type": "code",
   "execution_count": null,
   "metadata": {},
   "outputs": [],
   "source": []
  }
 ],
 "metadata": {
  "kernelspec": {
   "display_name": "Python 3",
   "language": "python",
   "name": "python3"
  },
  "language_info": {
   "codemirror_mode": {
    "name": "ipython",
    "version": 3
   },
   "file_extension": ".py",
   "mimetype": "text/x-python",
   "name": "python",
   "nbconvert_exporter": "python",
   "pygments_lexer": "ipython3",
   "version": "3.8.8"
  }
 },
 "nbformat": 4,
 "nbformat_minor": 4
}
